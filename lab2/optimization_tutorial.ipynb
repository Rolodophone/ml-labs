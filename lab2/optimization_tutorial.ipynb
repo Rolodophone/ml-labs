{
 "cells": [
  {
   "cell_type": "code",
   "execution_count": 1,
   "metadata": {
    "collapsed": false,
    "jupyter": {
     "outputs_hidden": false
    }
   },
   "outputs": [],
   "source": [
    "# For tips on running notebooks in Google Colab, see\n",
    "# https://pytorch.org/tutorials/beginner/colab\n",
    "%matplotlib inline"
   ]
  },
  {
   "cell_type": "markdown",
   "metadata": {},
   "source": [
    "[Learn the Basics](intro.html) \\|\\|\n",
    "[Quickstart](quickstart_tutorial.html) \\|\\|\n",
    "[Tensors](tensorqs_tutorial.html) \\|\\| [Datasets &\n",
    "DataLoaders](data_tutorial.html) \\|\\|\n",
    "[Transforms](transforms_tutorial.html) \\|\\| [Build\n",
    "Model](buildmodel_tutorial.html) \\|\\|\n",
    "[Autograd](autogradqs_tutorial.html) \\|\\| **Optimization** \\|\\| [Save &\n",
    "Load Model](saveloadrun_tutorial.html)\n",
    "\n",
    "Optimizing Model Parameters\n",
    "===========================\n",
    "\n",
    "Now that we have a model and data it\\'s time to train, validate and test\n",
    "our model by optimizing its parameters on our data. Training a model is\n",
    "an iterative process; in each iteration the model makes a guess about\n",
    "the output, calculates the error in its guess (*loss*), collects the\n",
    "derivatives of the error with respect to its parameters (as we saw in\n",
    "the [previous section](autograd_tutorial.html)), and **optimizes** these\n",
    "parameters using gradient descent. For a more detailed walkthrough of\n",
    "this process, check out this video on [backpropagation from\n",
    "3Blue1Brown](https://www.youtube.com/watch?v=tIeHLnjs5U8).\n",
    "\n",
    "Prerequisite Code\n",
    "-----------------\n",
    "\n",
    "We load the code from the previous sections on [Datasets &\n",
    "DataLoaders](data_tutorial.html) and [Build\n",
    "Model](buildmodel_tutorial.html).\n"
   ]
  },
  {
   "cell_type": "code",
   "execution_count": 2,
   "metadata": {
    "collapsed": false,
    "jupyter": {
     "outputs_hidden": false
    }
   },
   "outputs": [],
   "source": [
    "import torch\n",
    "from torch import nn\n",
    "from torch.utils.data import DataLoader\n",
    "from torchvision import datasets\n",
    "from torchvision.transforms import ToTensor\n",
    "\n",
    "training_data = datasets.FashionMNIST(\n",
    "    root=\"data\",\n",
    "    train=True,\n",
    "    download=True,\n",
    "    transform=ToTensor()\n",
    ")\n",
    "\n",
    "test_data = datasets.FashionMNIST(\n",
    "    root=\"data\",\n",
    "    train=False,\n",
    "    download=True,\n",
    "    transform=ToTensor()\n",
    ")\n",
    "\n",
    "train_dataloader = DataLoader(training_data, batch_size=64)\n",
    "test_dataloader = DataLoader(test_data, batch_size=64)\n",
    "\n",
    "class NeuralNetwork(nn.Module):\n",
    "    def __init__(self):\n",
    "        super().__init__()\n",
    "        self.flatten = nn.Flatten()\n",
    "        # self.linear_relu_stack = nn.Sequential(\n",
    "        #     nn.Linear(28*28, 512),\n",
    "        #     nn.ReLU(),\n",
    "        #     nn.Linear(512, 512),\n",
    "        #     nn.ReLU(),\n",
    "        #     nn.Linear(512, 10),\n",
    "        # )\n",
    "        self.linear = nn.Linear(28*28, 10)\n",
    "        self.sigmoid = nn.Sigmoid()\n",
    "\n",
    "    def forward(self, x):\n",
    "        x = self.flatten(x)\n",
    "        logits = self.linear(x)\n",
    "        output = self.sigmoid(logits)\n",
    "        return output\n",
    "\n",
    "model = NeuralNetwork()"
   ]
  },
  {
   "cell_type": "markdown",
   "metadata": {},
   "source": [
    "Hyperparameters\n",
    "===============\n",
    "\n",
    "Hyperparameters are adjustable parameters that let you control the model\n",
    "optimization process. Different hyperparameter values can impact model\n",
    "training and convergence rates ([read\n",
    "more](https://pytorch.org/tutorials/beginner/hyperparameter_tuning_tutorial.html)\n",
    "about hyperparameter tuning)\n",
    "\n",
    "We define the following hyperparameters for training:\n",
    "\n",
    ":   -   **Number of Epochs** - the number times to iterate over the\n",
    "        dataset\n",
    "    -   **Batch Size** - the number of data samples propagated through\n",
    "        the network before the parameters are updated\n",
    "    -   **Learning Rate** - how much to update models parameters at each\n",
    "        batch/epoch. Smaller values yield slow learning speed, while\n",
    "        large values may result in unpredictable behavior during\n",
    "        training.\n"
   ]
  },
  {
   "cell_type": "code",
   "execution_count": 3,
   "metadata": {
    "collapsed": false,
    "jupyter": {
     "outputs_hidden": false
    }
   },
   "outputs": [],
   "source": [
    "learning_rate = 0.0005\n",
    "batch_size = 64\n",
    "epochs = 10"
   ]
  },
  {
   "cell_type": "markdown",
   "metadata": {},
   "source": [
    "Optimization Loop\n",
    "=================\n",
    "\n",
    "Once we set our hyperparameters, we can then train and optimize our\n",
    "model with an optimization loop. Each iteration of the optimization loop\n",
    "is called an **epoch**.\n",
    "\n",
    "Each epoch consists of two main parts:\n",
    "\n",
    ":   -   **The Train Loop** - iterate over the training dataset and try\n",
    "        to converge to optimal parameters.\n",
    "    -   **The Validation/Test Loop** - iterate over the test dataset to\n",
    "        check if model performance is improving.\n",
    "\n",
    "Let\\'s briefly familiarize ourselves with some of the concepts used in\n",
    "the training loop. Jump ahead to see the\n",
    "`full-impl-label`{.interpreted-text role=\"ref\"} of the optimization\n",
    "loop.\n",
    "\n",
    "Loss Function\n",
    "-------------\n",
    "\n",
    "When presented with some training data, our untrained network is likely\n",
    "not to give the correct answer. **Loss function** measures the degree of\n",
    "dissimilarity of obtained result to the target value, and it is the loss\n",
    "function that we want to minimize during training. To calculate the loss\n",
    "we make a prediction using the inputs of our given data sample and\n",
    "compare it against the true data label value.\n",
    "\n",
    "Common loss functions include\n",
    "[nn.MSELoss](https://pytorch.org/docs/stable/generated/torch.nn.MSELoss.html#torch.nn.MSELoss)\n",
    "(Mean Square Error) for regression tasks, and\n",
    "[nn.NLLLoss](https://pytorch.org/docs/stable/generated/torch.nn.NLLLoss.html#torch.nn.NLLLoss)\n",
    "(Negative Log Likelihood) for classification.\n",
    "[nn.CrossEntropyLoss](https://pytorch.org/docs/stable/generated/torch.nn.CrossEntropyLoss.html#torch.nn.CrossEntropyLoss)\n",
    "combines `nn.LogSoftmax` and `nn.NLLLoss`.\n",
    "\n",
    "We pass our model\\'s output logits to `nn.CrossEntropyLoss`, which will\n",
    "normalize the logits and compute the prediction error.\n"
   ]
  },
  {
   "cell_type": "code",
   "execution_count": 4,
   "metadata": {
    "collapsed": false,
    "jupyter": {
     "outputs_hidden": false
    }
   },
   "outputs": [],
   "source": [
    "# Initialize the loss function\n",
    "loss_fn = nn.CrossEntropyLoss()"
   ]
  },
  {
   "cell_type": "markdown",
   "metadata": {},
   "source": [
    "Optimizer\n",
    "=========\n",
    "\n",
    "Optimization is the process of adjusting model parameters to reduce\n",
    "model error in each training step. **Optimization algorithms** define\n",
    "how this process is performed (in this example we use Stochastic\n",
    "Gradient Descent). All optimization logic is encapsulated in the\n",
    "`optimizer` object. Here, we use the SGD optimizer; additionally, there\n",
    "are many [different\n",
    "optimizers](https://pytorch.org/docs/stable/optim.html) available in\n",
    "PyTorch such as ADAM and RMSProp, that work better for different kinds\n",
    "of models and data.\n",
    "\n",
    "We initialize the optimizer by registering the model\\'s parameters that\n",
    "need to be trained, and passing in the learning rate hyperparameter.\n"
   ]
  },
  {
   "cell_type": "code",
   "execution_count": 5,
   "metadata": {
    "collapsed": false,
    "jupyter": {
     "outputs_hidden": false
    }
   },
   "outputs": [],
   "source": [
    "optimizer = torch.optim.SGD(model.parameters(), lr=learning_rate)"
   ]
  },
  {
   "cell_type": "markdown",
   "metadata": {},
   "source": [
    "Inside the training loop, optimization happens in three steps:\n",
    "\n",
    ":   -   Call `optimizer.zero_grad()` to reset the gradients of model\n",
    "        parameters. Gradients by default add up; to prevent\n",
    "        double-counting, we explicitly zero them at each iteration.\n",
    "    -   Backpropagate the prediction loss with a call to\n",
    "        `loss.backward()`. PyTorch deposits the gradients of the loss\n",
    "        w.r.t. each parameter.\n",
    "    -   Once we have our gradients, we call `optimizer.step()` to adjust\n",
    "        the parameters by the gradients collected in the backward pass.\n"
   ]
  },
  {
   "cell_type": "markdown",
   "metadata": {},
   "source": [
    "Full Implementation {#full-impl-label}\n",
    "===================\n",
    "\n",
    "We define `train_loop` that loops over our optimization code, and\n",
    "`test_loop` that evaluates the model\\'s performance against our test\n",
    "data.\n"
   ]
  },
  {
   "cell_type": "code",
   "execution_count": 6,
   "metadata": {
    "collapsed": false,
    "jupyter": {
     "outputs_hidden": false
    }
   },
   "outputs": [],
   "source": [
    "def train_loop(dataloader, model, loss_fn, optimizer):\n",
    "    size = len(dataloader.dataset)\n",
    "    # Set the model to training mode - important for batch normalization and dropout layers\n",
    "    # Unnecessary in this situation but added for best practices\n",
    "    model.train()\n",
    "    for batch, (X, y) in enumerate(dataloader):\n",
    "        # Compute prediction and loss\n",
    "        pred = model(X)\n",
    "        loss = loss_fn(pred, y)\n",
    "\n",
    "        # Backpropagation\n",
    "        loss.backward()\n",
    "        optimizer.step()\n",
    "        optimizer.zero_grad()\n",
    "\n",
    "        if batch % 100 == 0:\n",
    "            loss, current = loss.item(), batch * batch_size + len(X)\n",
    "            print(f\"loss: {loss:>7f}  [{current:>5d}/{size:>5d}]\")\n",
    "\n",
    "\n",
    "def test_loop(dataloader, model, loss_fn):\n",
    "    # Set the model to evaluation mode - important for batch normalization and dropout layers\n",
    "    # Unnecessary in this situation but added for best practices\n",
    "    model.eval()\n",
    "    size = len(dataloader.dataset)\n",
    "    num_batches = len(dataloader)\n",
    "    test_loss, correct = 0, 0\n",
    "\n",
    "    # Evaluating the model with torch.no_grad() ensures that no gradients are computed during test mode\n",
    "    # also serves to reduce unnecessary gradient computations and memory usage for tensors with requires_grad=True\n",
    "    with torch.no_grad():\n",
    "        for X, y in dataloader:\n",
    "            pred = model(X)\n",
    "            test_loss += loss_fn(pred, y).item()\n",
    "            correct += (pred.argmax(1) == y).type(torch.float).sum().item()\n",
    "\n",
    "    test_loss /= num_batches\n",
    "    correct /= size\n",
    "    print(f\"Test Error: \\n Accuracy: {(100*correct):>0.1f}%, Avg loss: {test_loss:>8f} \\n\")"
   ]
  },
  {
   "cell_type": "markdown",
   "metadata": {},
   "source": [
    "We initialize the loss function and optimizer, and pass it to\n",
    "`train_loop` and `test_loop`. Feel free to increase the number of epochs\n",
    "to track the model\\'s improving performance.\n"
   ]
  },
  {
   "cell_type": "code",
   "execution_count": 7,
   "metadata": {
    "collapsed": false,
    "jupyter": {
     "outputs_hidden": false
    }
   },
   "outputs": [
    {
     "name": "stdout",
     "output_type": "stream",
     "text": [
      "Epoch 1\n",
      "-------------------------------\n",
      "loss: 2.320896  [   64/60000]\n"
     ]
    },
    {
     "name": "stderr",
     "output_type": "stream",
     "text": [
      "/home/sergi/Programming/ml-labs/venv/lib/python3.12/site-packages/torch/autograd/graph.py:769: UserWarning: CUDA initialization: The NVIDIA driver on your system is too old (found version 9010). Please update your GPU driver by downloading and installing a new version from the URL: http://www.nvidia.com/Download/index.aspx Alternatively, go to: https://pytorch.org to install a PyTorch version that has been compiled with your version of the CUDA driver. (Triggered internally at ../c10/cuda/CUDAFunctions.cpp:108.)\n",
      "  return Variable._execution_engine.run_backward(  # Calls into the C++ engine to run the backward pass\n"
     ]
    },
    {
     "name": "stdout",
     "output_type": "stream",
     "text": [
      "loss: 2.301615  [ 6464/60000]\n",
      "loss: 2.291518  [12864/60000]\n",
      "loss: 2.276316  [19264/60000]\n",
      "loss: 2.281605  [25664/60000]\n",
      "loss: 2.251775  [32064/60000]\n",
      "loss: 2.262138  [38464/60000]\n",
      "loss: 2.237612  [44864/60000]\n",
      "loss: 2.258763  [51264/60000]\n",
      "loss: 2.231728  [57664/60000]\n",
      "Test Error: \n",
      " Accuracy: 29.1%, Avg loss: 2.237657 \n",
      "\n",
      "Epoch 2\n",
      "-------------------------------\n",
      "loss: 2.256208  [   64/60000]\n",
      "loss: 2.240834  [ 6464/60000]\n",
      "loss: 2.223443  [12864/60000]\n",
      "loss: 2.221769  [19264/60000]\n",
      "loss: 2.224823  [25664/60000]\n",
      "loss: 2.188977  [32064/60000]\n",
      "loss: 2.210206  [38464/60000]\n",
      "loss: 2.181123  [44864/60000]\n",
      "loss: 2.205752  [51264/60000]\n",
      "loss: 2.179253  [57664/60000]\n",
      "Test Error: \n",
      " Accuracy: 38.4%, Avg loss: 2.185545 \n",
      "\n",
      "Epoch 3\n",
      "-------------------------------\n",
      "loss: 2.204660  [   64/60000]\n",
      "loss: 2.191995  [ 6464/60000]\n",
      "loss: 2.170826  [12864/60000]\n",
      "loss: 2.178762  [19264/60000]\n",
      "loss: 2.178399  [25664/60000]\n",
      "loss: 2.143182  [32064/60000]\n",
      "loss: 2.167709  [38464/60000]\n",
      "loss: 2.138096  [44864/60000]\n",
      "loss: 2.163636  [51264/60000]\n",
      "loss: 2.136269  [57664/60000]\n",
      "Test Error: \n",
      " Accuracy: 51.8%, Avg loss: 2.144574 \n",
      "\n",
      "Epoch 4\n",
      "-------------------------------\n",
      "loss: 2.163998  [   64/60000]\n",
      "loss: 2.153708  [ 6464/60000]\n",
      "loss: 2.129265  [12864/60000]\n",
      "loss: 2.143598  [19264/60000]\n",
      "loss: 2.140294  [25664/60000]\n",
      "loss: 2.107657  [32064/60000]\n",
      "loss: 2.132800  [38464/60000]\n",
      "loss: 2.104040  [44864/60000]\n",
      "loss: 2.129257  [51264/60000]\n",
      "loss: 2.100295  [57664/60000]\n",
      "Test Error: \n",
      " Accuracy: 57.4%, Avg loss: 2.111262 \n",
      "\n",
      "Epoch 5\n",
      "-------------------------------\n",
      "loss: 2.131101  [   64/60000]\n",
      "loss: 2.122943  [ 6464/60000]\n",
      "loss: 2.095263  [12864/60000]\n",
      "loss: 2.114156  [19264/60000]\n",
      "loss: 2.108042  [25664/60000]\n",
      "loss: 2.078590  [32064/60000]\n",
      "loss: 2.103636  [38464/60000]\n",
      "loss: 2.076030  [44864/60000]\n",
      "loss: 2.100303  [51264/60000]\n",
      "loss: 2.069947  [57664/60000]\n",
      "Test Error: \n",
      " Accuracy: 59.9%, Avg loss: 2.083367 \n",
      "\n",
      "Epoch 6\n",
      "-------------------------------\n",
      "loss: 2.103595  [   64/60000]\n",
      "loss: 2.097385  [ 6464/60000]\n",
      "loss: 2.066604  [12864/60000]\n",
      "loss: 2.089116  [19264/60000]\n",
      "loss: 2.080092  [25664/60000]\n",
      "loss: 2.054008  [32064/60000]\n",
      "loss: 2.078893  [38464/60000]\n",
      "loss: 2.052384  [44864/60000]\n",
      "loss: 2.075385  [51264/60000]\n",
      "loss: 2.044189  [57664/60000]\n",
      "Test Error: \n",
      " Accuracy: 61.1%, Avg loss: 2.059531 \n",
      "\n",
      "Epoch 7\n",
      "-------------------------------\n",
      "loss: 2.080024  [   64/60000]\n",
      "loss: 2.075624  [ 6464/60000]\n",
      "loss: 2.041953  [12864/60000]\n",
      "loss: 2.067562  [19264/60000]\n",
      "loss: 2.055554  [25664/60000]\n",
      "loss: 2.032806  [32064/60000]\n",
      "loss: 2.057639  [38464/60000]\n",
      "loss: 2.032072  [44864/60000]\n",
      "loss: 2.053641  [51264/60000]\n",
      "loss: 2.022166  [57664/60000]\n",
      "Test Error: \n",
      " Accuracy: 62.2%, Avg loss: 2.038876 \n",
      "\n",
      "Epoch 8\n",
      "-------------------------------\n",
      "loss: 2.059495  [   64/60000]\n",
      "loss: 2.056787  [ 6464/60000]\n",
      "loss: 2.020457  [12864/60000]\n",
      "loss: 2.048819  [19264/60000]\n",
      "loss: 2.033851  [25664/60000]\n",
      "loss: 2.014278  [32064/60000]\n",
      "loss: 2.039188  [38464/60000]\n",
      "loss: 2.014401  [44864/60000]\n",
      "loss: 2.034480  [51264/60000]\n",
      "loss: 2.003172  [57664/60000]\n",
      "Test Error: \n",
      " Accuracy: 62.8%, Avg loss: 2.020786 \n",
      "\n",
      "Epoch 9\n",
      "-------------------------------\n",
      "loss: 2.041407  [   64/60000]\n",
      "loss: 2.040288  [ 6464/60000]\n",
      "loss: 2.001516  [12864/60000]\n",
      "loss: 2.032370  [19264/60000]\n",
      "loss: 2.014551  [25664/60000]\n",
      "loss: 1.997921  [32064/60000]\n",
      "loss: 2.023017  [38464/60000]\n",
      "loss: 1.998868  [44864/60000]\n",
      "loss: 2.017462  [51264/60000]\n",
      "loss: 1.986636  [57664/60000]\n",
      "Test Error: \n",
      " Accuracy: 63.3%, Avg loss: 2.004799 \n",
      "\n",
      "Epoch 10\n",
      "-------------------------------\n",
      "loss: 2.025325  [   64/60000]\n",
      "loss: 2.025697  [ 6464/60000]\n",
      "loss: 1.984680  [12864/60000]\n",
      "loss: 2.017809  [19264/60000]\n",
      "loss: 1.997299  [25664/60000]\n",
      "loss: 1.983358  [32064/60000]\n",
      "loss: 2.008718  [38464/60000]\n",
      "loss: 1.985091  [44864/60000]\n",
      "loss: 2.002244  [51264/60000]\n",
      "loss: 1.972102  [57664/60000]\n",
      "Test Error: \n",
      " Accuracy: 63.5%, Avg loss: 1.990553 \n",
      "\n",
      "Done!\n"
     ]
    }
   ],
   "source": [
    "loss_fn = nn.CrossEntropyLoss()\n",
    "optimizer = torch.optim.SGD(model.parameters(), lr=learning_rate)\n",
    "\n",
    "for t in range(epochs):\n",
    "    print(f\"Epoch {t+1}\\n-------------------------------\")\n",
    "    train_loop(train_dataloader, model, loss_fn, optimizer)\n",
    "    test_loop(test_dataloader, model, loss_fn)\n",
    "print(\"Done!\")"
   ]
  },
  {
   "cell_type": "markdown",
   "metadata": {},
   "source": [
    "Further Reading\n",
    "===============\n",
    "\n",
    "-   [Loss\n",
    "    Functions](https://pytorch.org/docs/stable/nn.html#loss-functions)\n",
    "-   [torch.optim](https://pytorch.org/docs/stable/optim.html)\n",
    "-   [Warmstart Training a\n",
    "    Model](https://pytorch.org/tutorials/recipes/recipes/warmstarting_model_using_parameters_from_a_different_model.html)\n"
   ]
  }
 ],
 "metadata": {
  "kernelspec": {
   "display_name": "Python 3 (ipykernel)",
   "language": "python",
   "name": "python3"
  },
  "language_info": {
   "codemirror_mode": {
    "name": "ipython",
    "version": 3
   },
   "file_extension": ".py",
   "mimetype": "text/x-python",
   "name": "python",
   "nbconvert_exporter": "python",
   "pygments_lexer": "ipython3",
   "version": "3.12.6"
  }
 },
 "nbformat": 4,
 "nbformat_minor": 4
}
